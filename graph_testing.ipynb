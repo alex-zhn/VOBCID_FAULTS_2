{
 "cells": [
  {
   "cell_type": "code",
   "execution_count": 7,
   "metadata": {},
   "outputs": [],
   "source": [
    "import order_data\n",
    "import numpy\n",
    "import pandas as pd\n",
    "from collections import OrderedDict"
   ]
  },
  {
   "cell_type": "code",
   "execution_count": 10,
   "metadata": {},
   "outputs": [],
   "source": [
    "df = pd.read_csv(\"fc1.csv\" )\n"
   ]
  },
  {
   "cell_type": "code",
   "execution_count": 15,
   "metadata": {},
   "outputs": [
    {
     "output_type": "execute_result",
     "data": {
      "text/plain": "                    FaultName  Fault Code\n0       03. FAR Level 3 Fault           3\n1       03. FAR Level 3 Fault           3\n2       03. FAR Level 3 Fault           3\n3       03. FAR Level 3 Fault           3\n4       03. FAR Level 3 Fault           3\n...                       ...         ...\n389343  03. FAR Level 3 Fault           3\n389344  06. Converter Failure           6\n389345  03. FAR Level 3 Fault           3\n389346  03. FAR Level 3 Fault           3\n389347  06. Converter Failure           6\n\n[389348 rows x 2 columns]",
      "text/html": "<div>\n<style scoped>\n    .dataframe tbody tr th:only-of-type {\n        vertical-align: middle;\n    }\n\n    .dataframe tbody tr th {\n        vertical-align: top;\n    }\n\n    .dataframe thead th {\n        text-align: right;\n    }\n</style>\n<table border=\"1\" class=\"dataframe\">\n  <thead>\n    <tr style=\"text-align: right;\">\n      <th></th>\n      <th>FaultName</th>\n      <th>Fault Code</th>\n    </tr>\n  </thead>\n  <tbody>\n    <tr>\n      <th>0</th>\n      <td>03. FAR Level 3 Fault</td>\n      <td>3</td>\n    </tr>\n    <tr>\n      <th>1</th>\n      <td>03. FAR Level 3 Fault</td>\n      <td>3</td>\n    </tr>\n    <tr>\n      <th>2</th>\n      <td>03. FAR Level 3 Fault</td>\n      <td>3</td>\n    </tr>\n    <tr>\n      <th>3</th>\n      <td>03. FAR Level 3 Fault</td>\n      <td>3</td>\n    </tr>\n    <tr>\n      <th>4</th>\n      <td>03. FAR Level 3 Fault</td>\n      <td>3</td>\n    </tr>\n    <tr>\n      <th>...</th>\n      <td>...</td>\n      <td>...</td>\n    </tr>\n    <tr>\n      <th>389343</th>\n      <td>03. FAR Level 3 Fault</td>\n      <td>3</td>\n    </tr>\n    <tr>\n      <th>389344</th>\n      <td>06. Converter Failure</td>\n      <td>6</td>\n    </tr>\n    <tr>\n      <th>389345</th>\n      <td>03. FAR Level 3 Fault</td>\n      <td>3</td>\n    </tr>\n    <tr>\n      <th>389346</th>\n      <td>03. FAR Level 3 Fault</td>\n      <td>3</td>\n    </tr>\n    <tr>\n      <th>389347</th>\n      <td>06. Converter Failure</td>\n      <td>6</td>\n    </tr>\n  </tbody>\n</table>\n<p>389348 rows × 2 columns</p>\n</div>"
     },
     "metadata": {},
     "execution_count": 15
    }
   ],
   "source": [
    "columns_titles = [\"FaultName\",\"Fault Code\"]\n",
    "df=df.reindex(columns=columns_titles)\n",
    "df"
   ]
  },
  {
   "cell_type": "code",
   "execution_count": 16,
   "metadata": {},
   "outputs": [
    {
     "output_type": "execute_result",
     "data": {
      "text/plain": "                        lable  value\n0       03. FAR Level 3 Fault      3\n1       03. FAR Level 3 Fault      3\n2       03. FAR Level 3 Fault      3\n3       03. FAR Level 3 Fault      3\n4       03. FAR Level 3 Fault      3\n...                       ...    ...\n389343  03. FAR Level 3 Fault      3\n389344  06. Converter Failure      6\n389345  03. FAR Level 3 Fault      3\n389346  03. FAR Level 3 Fault      3\n389347  06. Converter Failure      6\n\n[389348 rows x 2 columns]",
      "text/html": "<div>\n<style scoped>\n    .dataframe tbody tr th:only-of-type {\n        vertical-align: middle;\n    }\n\n    .dataframe tbody tr th {\n        vertical-align: top;\n    }\n\n    .dataframe thead th {\n        text-align: right;\n    }\n</style>\n<table border=\"1\" class=\"dataframe\">\n  <thead>\n    <tr style=\"text-align: right;\">\n      <th></th>\n      <th>lable</th>\n      <th>value</th>\n    </tr>\n  </thead>\n  <tbody>\n    <tr>\n      <th>0</th>\n      <td>03. FAR Level 3 Fault</td>\n      <td>3</td>\n    </tr>\n    <tr>\n      <th>1</th>\n      <td>03. FAR Level 3 Fault</td>\n      <td>3</td>\n    </tr>\n    <tr>\n      <th>2</th>\n      <td>03. FAR Level 3 Fault</td>\n      <td>3</td>\n    </tr>\n    <tr>\n      <th>3</th>\n      <td>03. FAR Level 3 Fault</td>\n      <td>3</td>\n    </tr>\n    <tr>\n      <th>4</th>\n      <td>03. FAR Level 3 Fault</td>\n      <td>3</td>\n    </tr>\n    <tr>\n      <th>...</th>\n      <td>...</td>\n      <td>...</td>\n    </tr>\n    <tr>\n      <th>389343</th>\n      <td>03. FAR Level 3 Fault</td>\n      <td>3</td>\n    </tr>\n    <tr>\n      <th>389344</th>\n      <td>06. Converter Failure</td>\n      <td>6</td>\n    </tr>\n    <tr>\n      <th>389345</th>\n      <td>03. FAR Level 3 Fault</td>\n      <td>3</td>\n    </tr>\n    <tr>\n      <th>389346</th>\n      <td>03. FAR Level 3 Fault</td>\n      <td>3</td>\n    </tr>\n    <tr>\n      <th>389347</th>\n      <td>06. Converter Failure</td>\n      <td>6</td>\n    </tr>\n  </tbody>\n</table>\n<p>389348 rows × 2 columns</p>\n</div>"
     },
     "metadata": {},
     "execution_count": 16
    }
   ],
   "source": [
    "df.columns = ['lable', 'value'] \n",
    "df"
   ]
  },
  {
   "cell_type": "code",
   "execution_count": 17,
   "metadata": {},
   "outputs": [
    {
     "output_type": "execute_result",
     "data": {
      "text/plain": "                                lable  value\n0               03. FAR Level 3 Fault      3\n17      15.Loss of Door Closed Status     15\n48              06. Converter Failure      6\n60                 04. Failed to Dock      4\n88                01. Passenger Alarm      1\n808         05. Dynamic Brake Failure      5\n2618                11. V = 0 Failure     11\n2835            02. FAR Level 2 Fault      2\n2836     12. Obstruction in AUTO Mode     12\n2853                     10. Rollback     10\n2856            07. FAR Level 1 Fault      7\n5036              08. Train Overspeed      8\n6673              13. EB Test Failure     13\n10078      09. Target Point Overshoot      9\n142987     14. Power Deselect Failure     14",
      "text/html": "<div>\n<style scoped>\n    .dataframe tbody tr th:only-of-type {\n        vertical-align: middle;\n    }\n\n    .dataframe tbody tr th {\n        vertical-align: top;\n    }\n\n    .dataframe thead th {\n        text-align: right;\n    }\n</style>\n<table border=\"1\" class=\"dataframe\">\n  <thead>\n    <tr style=\"text-align: right;\">\n      <th></th>\n      <th>lable</th>\n      <th>value</th>\n    </tr>\n  </thead>\n  <tbody>\n    <tr>\n      <th>0</th>\n      <td>03. FAR Level 3 Fault</td>\n      <td>3</td>\n    </tr>\n    <tr>\n      <th>17</th>\n      <td>15.Loss of Door Closed Status</td>\n      <td>15</td>\n    </tr>\n    <tr>\n      <th>48</th>\n      <td>06. Converter Failure</td>\n      <td>6</td>\n    </tr>\n    <tr>\n      <th>60</th>\n      <td>04. Failed to Dock</td>\n      <td>4</td>\n    </tr>\n    <tr>\n      <th>88</th>\n      <td>01. Passenger Alarm</td>\n      <td>1</td>\n    </tr>\n    <tr>\n      <th>808</th>\n      <td>05. Dynamic Brake Failure</td>\n      <td>5</td>\n    </tr>\n    <tr>\n      <th>2618</th>\n      <td>11. V = 0 Failure</td>\n      <td>11</td>\n    </tr>\n    <tr>\n      <th>2835</th>\n      <td>02. FAR Level 2 Fault</td>\n      <td>2</td>\n    </tr>\n    <tr>\n      <th>2836</th>\n      <td>12. Obstruction in AUTO Mode</td>\n      <td>12</td>\n    </tr>\n    <tr>\n      <th>2853</th>\n      <td>10. Rollback</td>\n      <td>10</td>\n    </tr>\n    <tr>\n      <th>2856</th>\n      <td>07. FAR Level 1 Fault</td>\n      <td>7</td>\n    </tr>\n    <tr>\n      <th>5036</th>\n      <td>08. Train Overspeed</td>\n      <td>8</td>\n    </tr>\n    <tr>\n      <th>6673</th>\n      <td>13. EB Test Failure</td>\n      <td>13</td>\n    </tr>\n    <tr>\n      <th>10078</th>\n      <td>09. Target Point Overshoot</td>\n      <td>9</td>\n    </tr>\n    <tr>\n      <th>142987</th>\n      <td>14. Power Deselect Failure</td>\n      <td>14</td>\n    </tr>\n  </tbody>\n</table>\n</div>"
     },
     "metadata": {},
     "execution_count": 17
    }
   ],
   "source": [
    "pf= df.drop_duplicates(\"lable\")\n",
    "pf"
   ]
  },
  {
   "cell_type": "code",
   "execution_count": 18,
   "metadata": {},
   "outputs": [
    {
     "output_type": "execute_result",
     "data": {
      "text/plain": "                                lable  value\n88                01. Passenger Alarm      1\n2835            02. FAR Level 2 Fault      2\n0               03. FAR Level 3 Fault      3\n60                 04. Failed to Dock      4\n808         05. Dynamic Brake Failure      5\n48              06. Converter Failure      6\n2856            07. FAR Level 1 Fault      7\n5036              08. Train Overspeed      8\n10078      09. Target Point Overshoot      9\n2853                     10. Rollback     10\n2618                11. V = 0 Failure     11\n2836     12. Obstruction in AUTO Mode     12\n6673              13. EB Test Failure     13\n142987     14. Power Deselect Failure     14\n17      15.Loss of Door Closed Status     15",
      "text/html": "<div>\n<style scoped>\n    .dataframe tbody tr th:only-of-type {\n        vertical-align: middle;\n    }\n\n    .dataframe tbody tr th {\n        vertical-align: top;\n    }\n\n    .dataframe thead th {\n        text-align: right;\n    }\n</style>\n<table border=\"1\" class=\"dataframe\">\n  <thead>\n    <tr style=\"text-align: right;\">\n      <th></th>\n      <th>lable</th>\n      <th>value</th>\n    </tr>\n  </thead>\n  <tbody>\n    <tr>\n      <th>88</th>\n      <td>01. Passenger Alarm</td>\n      <td>1</td>\n    </tr>\n    <tr>\n      <th>2835</th>\n      <td>02. FAR Level 2 Fault</td>\n      <td>2</td>\n    </tr>\n    <tr>\n      <th>0</th>\n      <td>03. FAR Level 3 Fault</td>\n      <td>3</td>\n    </tr>\n    <tr>\n      <th>60</th>\n      <td>04. Failed to Dock</td>\n      <td>4</td>\n    </tr>\n    <tr>\n      <th>808</th>\n      <td>05. Dynamic Brake Failure</td>\n      <td>5</td>\n    </tr>\n    <tr>\n      <th>48</th>\n      <td>06. Converter Failure</td>\n      <td>6</td>\n    </tr>\n    <tr>\n      <th>2856</th>\n      <td>07. FAR Level 1 Fault</td>\n      <td>7</td>\n    </tr>\n    <tr>\n      <th>5036</th>\n      <td>08. Train Overspeed</td>\n      <td>8</td>\n    </tr>\n    <tr>\n      <th>10078</th>\n      <td>09. Target Point Overshoot</td>\n      <td>9</td>\n    </tr>\n    <tr>\n      <th>2853</th>\n      <td>10. Rollback</td>\n      <td>10</td>\n    </tr>\n    <tr>\n      <th>2618</th>\n      <td>11. V = 0 Failure</td>\n      <td>11</td>\n    </tr>\n    <tr>\n      <th>2836</th>\n      <td>12. Obstruction in AUTO Mode</td>\n      <td>12</td>\n    </tr>\n    <tr>\n      <th>6673</th>\n      <td>13. EB Test Failure</td>\n      <td>13</td>\n    </tr>\n    <tr>\n      <th>142987</th>\n      <td>14. Power Deselect Failure</td>\n      <td>14</td>\n    </tr>\n    <tr>\n      <th>17</th>\n      <td>15.Loss of Door Closed Status</td>\n      <td>15</td>\n    </tr>\n  </tbody>\n</table>\n</div>"
     },
     "metadata": {},
     "execution_count": 18
    }
   ],
   "source": [
    "pf = pf.sort_values(by=['value'])\n",
    "pf"
   ]
  },
  {
   "cell_type": "code",
   "execution_count": 19,
   "metadata": {},
   "outputs": [
    {
     "output_type": "execute_result",
     "data": {
      "text/plain": "[{'lable': '01. Passenger Alarm', 'value': 1},\n {'lable': '02. FAR Level 2 Fault', 'value': 2},\n {'lable': '03. FAR Level 3 Fault', 'value': 3},\n {'lable': '04. Failed to Dock', 'value': 4},\n {'lable': '05. Dynamic Brake Failure', 'value': 5},\n {'lable': '06. Converter Failure', 'value': 6},\n {'lable': '07. FAR Level 1 Fault', 'value': 7},\n {'lable': '08. Train Overspeed', 'value': 8},\n {'lable': '09. Target Point Overshoot', 'value': 9},\n {'lable': '10. Rollback', 'value': 10},\n {'lable': '11. V = 0 Failure', 'value': 11},\n {'lable': '12. Obstruction in AUTO Mode', 'value': 12},\n {'lable': '13. EB Test Failure', 'value': 13},\n {'lable': '14. Power Deselect Failure', 'value': 14},\n {'lable': '15.Loss of Door Closed Status', 'value': 15}]"
     },
     "metadata": {},
     "execution_count": 19
    }
   ],
   "source": [
    "pf.to_dict('records')"
   ]
  },
  {
   "cell_type": "code",
   "execution_count": 13,
   "metadata": {},
   "outputs": [
    {
     "output_type": "execute_result",
     "data": {
      "text/plain": "       VOBCID LocationName  Fault Code  FaultCount\n19407     228      GRE-DEB           3         571\n19379     228      DEB-ELR           3         565\n30726     306      DEB-ELR           3         514\n30756     306      GRE-DEB           3         499\n24301     262      GRE-DEB           3         492\n...       ...          ...         ...         ...\n22374     248          PML           3         131\n29533     298      BEC-GAR           3         131\n29928     300      EAI-CAT           3         131\n2693       44          ELR           3         130\n14272     186          ELR           3         130\n\n[350 rows x 4 columns]",
      "text/html": "<div>\n<style scoped>\n    .dataframe tbody tr th:only-of-type {\n        vertical-align: middle;\n    }\n\n    .dataframe tbody tr th {\n        vertical-align: top;\n    }\n\n    .dataframe thead th {\n        text-align: right;\n    }\n</style>\n<table border=\"1\" class=\"dataframe\">\n  <thead>\n    <tr style=\"text-align: right;\">\n      <th></th>\n      <th>VOBCID</th>\n      <th>LocationName</th>\n      <th>Fault Code</th>\n      <th>FaultCount</th>\n    </tr>\n  </thead>\n  <tbody>\n    <tr>\n      <th>19407</th>\n      <td>228</td>\n      <td>GRE-DEB</td>\n      <td>3</td>\n      <td>571</td>\n    </tr>\n    <tr>\n      <th>19379</th>\n      <td>228</td>\n      <td>DEB-ELR</td>\n      <td>3</td>\n      <td>565</td>\n    </tr>\n    <tr>\n      <th>30726</th>\n      <td>306</td>\n      <td>DEB-ELR</td>\n      <td>3</td>\n      <td>514</td>\n    </tr>\n    <tr>\n      <th>30756</th>\n      <td>306</td>\n      <td>GRE-DEB</td>\n      <td>3</td>\n      <td>499</td>\n    </tr>\n    <tr>\n      <th>24301</th>\n      <td>262</td>\n      <td>GRE-DEB</td>\n      <td>3</td>\n      <td>492</td>\n    </tr>\n    <tr>\n      <th>...</th>\n      <td>...</td>\n      <td>...</td>\n      <td>...</td>\n      <td>...</td>\n    </tr>\n    <tr>\n      <th>22374</th>\n      <td>248</td>\n      <td>PML</td>\n      <td>3</td>\n      <td>131</td>\n    </tr>\n    <tr>\n      <th>29533</th>\n      <td>298</td>\n      <td>BEC-GAR</td>\n      <td>3</td>\n      <td>131</td>\n    </tr>\n    <tr>\n      <th>29928</th>\n      <td>300</td>\n      <td>EAI-CAT</td>\n      <td>3</td>\n      <td>131</td>\n    </tr>\n    <tr>\n      <th>2693</th>\n      <td>44</td>\n      <td>ELR</td>\n      <td>3</td>\n      <td>130</td>\n    </tr>\n    <tr>\n      <th>14272</th>\n      <td>186</td>\n      <td>ELR</td>\n      <td>3</td>\n      <td>130</td>\n    </tr>\n  </tbody>\n</table>\n<p>350 rows × 4 columns</p>\n</div>"
     },
     "metadata": {},
     "execution_count": 13
    }
   ],
   "source": [
    "pf = df.groupby([\"VOBCID\", \"LocationName\", \"Fault Code\"]).size()\n",
    "pf = pf.to_frame(name = 'FaultCount').reset_index()\n",
    "pf = pf.nlargest(350,\"FaultCount\") \n",
    "pf"
   ]
  },
  {
   "cell_type": "code",
   "execution_count": 8,
   "metadata": {},
   "outputs": [],
   "source": [
    "import order_data\n",
    "import dict_gen\n"
   ]
  },
  {
   "cell_type": "code",
   "execution_count": 9,
   "metadata": {},
   "outputs": [
    {
     "output_type": "execute_result",
     "data": {
      "text/plain": "                               Fault Code              FaultName  \\\nLoggedAt                                                           \n2014-01-01 00:35:29.110000000           3  03. FAR Level 3 Fault   \n2014-01-01 00:35:58.900000000           3  03. FAR Level 3 Fault   \n2014-01-01 00:37:25.180000000           3  03. FAR Level 3 Fault   \n2014-01-01 00:38:34.670000000           3  03. FAR Level 3 Fault   \n2014-01-01 00:39:06.640000000           3  03. FAR Level 3 Fault   \n...                                   ...                    ...   \n2014-12-31 22:21:06.770000000           3  03. FAR Level 3 Fault   \n2014-12-31 22:21:12.290000000           6  06. Converter Failure   \n2014-12-31 22:21:45.580000000           3  03. FAR Level 3 Fault   \n2014-12-31 22:22:19.560000000           3  03. FAR Level 3 Fault   \n2014-12-31 22:22:50.960000000           6  06. Converter Failure   \n\n                               Fault Code Set  Active Passive Status  VOBCID  \\\nLoggedAt                                                                       \n2014-01-01 00:35:29.110000000              -1                     -1     290   \n2014-01-01 00:35:58.900000000               0                     -1     228   \n2014-01-01 00:37:25.180000000               0                     -1     290   \n2014-01-01 00:38:34.670000000               0                     -1     276   \n2014-01-01 00:39:06.640000000              -1                     -1     260   \n...                                       ...                    ...     ...   \n2014-12-31 22:21:06.770000000               0                     -1     298   \n2014-12-31 22:21:12.290000000               0                     -1     256   \n2014-12-31 22:21:45.580000000              -1                     -1     306   \n2014-12-31 22:22:19.560000000               0                     -1     308   \n2014-12-31 22:22:50.960000000              -1                     -1     256   \n\n                               Velocity  IntervalTime LocationName  \nLoggedAt                                                            \n2014-01-01 00:35:29.110000000        37        116.07      WIQ-WES  \n2014-01-01 00:35:58.900000000        54          0.00      SHA-BAN  \n2014-01-01 00:37:25.180000000        35          0.00      WES-LIM  \n2014-01-01 00:38:34.670000000         0          0.00          LEW  \n2014-01-01 00:39:06.640000000        20         78.42          PDK  \n...                                 ...           ...          ...  \n2014-12-31 22:21:06.770000000        49          0.00      CAT-WST  \n2014-12-31 22:21:12.290000000        41          0.00      SHS-ABR  \n2014-12-31 22:21:45.580000000        39       7316.34      GRE-DEB  \n2014-12-31 22:22:19.560000000        38          0.00      CAT-ROV  \n2014-12-31 22:22:50.960000000        11          0.00          WEH  \n\n[389348 rows x 8 columns]",
      "text/html": "<div>\n<style scoped>\n    .dataframe tbody tr th:only-of-type {\n        vertical-align: middle;\n    }\n\n    .dataframe tbody tr th {\n        vertical-align: top;\n    }\n\n    .dataframe thead th {\n        text-align: right;\n    }\n</style>\n<table border=\"1\" class=\"dataframe\">\n  <thead>\n    <tr style=\"text-align: right;\">\n      <th></th>\n      <th>Fault Code</th>\n      <th>FaultName</th>\n      <th>Fault Code Set</th>\n      <th>Active Passive Status</th>\n      <th>VOBCID</th>\n      <th>Velocity</th>\n      <th>IntervalTime</th>\n      <th>LocationName</th>\n    </tr>\n    <tr>\n      <th>LoggedAt</th>\n      <th></th>\n      <th></th>\n      <th></th>\n      <th></th>\n      <th></th>\n      <th></th>\n      <th></th>\n      <th></th>\n    </tr>\n  </thead>\n  <tbody>\n    <tr>\n      <th>2014-01-01 00:35:29.110000000</th>\n      <td>3</td>\n      <td>03. FAR Level 3 Fault</td>\n      <td>-1</td>\n      <td>-1</td>\n      <td>290</td>\n      <td>37</td>\n      <td>116.07</td>\n      <td>WIQ-WES</td>\n    </tr>\n    <tr>\n      <th>2014-01-01 00:35:58.900000000</th>\n      <td>3</td>\n      <td>03. FAR Level 3 Fault</td>\n      <td>0</td>\n      <td>-1</td>\n      <td>228</td>\n      <td>54</td>\n      <td>0.00</td>\n      <td>SHA-BAN</td>\n    </tr>\n    <tr>\n      <th>2014-01-01 00:37:25.180000000</th>\n      <td>3</td>\n      <td>03. FAR Level 3 Fault</td>\n      <td>0</td>\n      <td>-1</td>\n      <td>290</td>\n      <td>35</td>\n      <td>0.00</td>\n      <td>WES-LIM</td>\n    </tr>\n    <tr>\n      <th>2014-01-01 00:38:34.670000000</th>\n      <td>3</td>\n      <td>03. FAR Level 3 Fault</td>\n      <td>0</td>\n      <td>-1</td>\n      <td>276</td>\n      <td>0</td>\n      <td>0.00</td>\n      <td>LEW</td>\n    </tr>\n    <tr>\n      <th>2014-01-01 00:39:06.640000000</th>\n      <td>3</td>\n      <td>03. FAR Level 3 Fault</td>\n      <td>-1</td>\n      <td>-1</td>\n      <td>260</td>\n      <td>20</td>\n      <td>78.42</td>\n      <td>PDK</td>\n    </tr>\n    <tr>\n      <th>...</th>\n      <td>...</td>\n      <td>...</td>\n      <td>...</td>\n      <td>...</td>\n      <td>...</td>\n      <td>...</td>\n      <td>...</td>\n      <td>...</td>\n    </tr>\n    <tr>\n      <th>2014-12-31 22:21:06.770000000</th>\n      <td>3</td>\n      <td>03. FAR Level 3 Fault</td>\n      <td>0</td>\n      <td>-1</td>\n      <td>298</td>\n      <td>49</td>\n      <td>0.00</td>\n      <td>CAT-WST</td>\n    </tr>\n    <tr>\n      <th>2014-12-31 22:21:12.290000000</th>\n      <td>6</td>\n      <td>06. Converter Failure</td>\n      <td>0</td>\n      <td>-1</td>\n      <td>256</td>\n      <td>41</td>\n      <td>0.00</td>\n      <td>SHS-ABR</td>\n    </tr>\n    <tr>\n      <th>2014-12-31 22:21:45.580000000</th>\n      <td>3</td>\n      <td>03. FAR Level 3 Fault</td>\n      <td>-1</td>\n      <td>-1</td>\n      <td>306</td>\n      <td>39</td>\n      <td>7316.34</td>\n      <td>GRE-DEB</td>\n    </tr>\n    <tr>\n      <th>2014-12-31 22:22:19.560000000</th>\n      <td>3</td>\n      <td>03. FAR Level 3 Fault</td>\n      <td>0</td>\n      <td>-1</td>\n      <td>308</td>\n      <td>38</td>\n      <td>0.00</td>\n      <td>CAT-ROV</td>\n    </tr>\n    <tr>\n      <th>2014-12-31 22:22:50.960000000</th>\n      <td>6</td>\n      <td>06. Converter Failure</td>\n      <td>-1</td>\n      <td>-1</td>\n      <td>256</td>\n      <td>11</td>\n      <td>0.00</td>\n      <td>WEH</td>\n    </tr>\n  </tbody>\n</table>\n<p>389348 rows × 8 columns</p>\n</div>"
     },
     "metadata": {},
     "execution_count": 9
    }
   ],
   "source": [
    "df0 = order_data.import_data(\"fc1.csv\")\n",
    "df0"
   ]
  },
  {
   "cell_type": "code",
   "execution_count": 3,
   "metadata": {},
   "outputs": [
    {
     "output_type": "execute_result",
     "data": {
      "text/plain": "                               Fault Code              FaultName  \\\nLoggedAt                                                           \n2014-01-01 00:35:29.110000000           3  03. FAR Level 3 Fault   \n2014-01-01 00:35:58.900000000           3  03. FAR Level 3 Fault   \n2014-01-01 00:37:25.180000000           3  03. FAR Level 3 Fault   \n2014-01-01 00:38:34.670000000           3  03. FAR Level 3 Fault   \n2014-01-01 00:39:06.640000000           3  03. FAR Level 3 Fault   \n...                                   ...                    ...   \n2014-12-31 22:13:41.840000000           3  03. FAR Level 3 Fault   \n2014-12-31 22:20:12.640000000           3  03. FAR Level 3 Fault   \n2014-12-31 22:21:06.770000000           3  03. FAR Level 3 Fault   \n2014-12-31 22:21:45.580000000           3  03. FAR Level 3 Fault   \n2014-12-31 22:22:19.560000000           3  03. FAR Level 3 Fault   \n\n                               Fault Code Set  Active Passive Status  VOBCID  \\\nLoggedAt                                                                       \n2014-01-01 00:35:29.110000000              -1                     -1     290   \n2014-01-01 00:35:58.900000000               0                     -1     228   \n2014-01-01 00:37:25.180000000               0                     -1     290   \n2014-01-01 00:38:34.670000000               0                     -1     276   \n2014-01-01 00:39:06.640000000              -1                     -1     260   \n...                                       ...                    ...     ...   \n2014-12-31 22:13:41.840000000               0                     -1     250   \n2014-12-31 22:20:12.640000000              -1                     -1     308   \n2014-12-31 22:21:06.770000000               0                     -1     298   \n2014-12-31 22:21:45.580000000              -1                     -1     306   \n2014-12-31 22:22:19.560000000               0                     -1     308   \n\n                               Velocity  IntervalTime LocationName  \nLoggedAt                                                            \n2014-01-01 00:35:29.110000000        37        116.07      WIQ-WES  \n2014-01-01 00:35:58.900000000        54          0.00      SHA-BAN  \n2014-01-01 00:37:25.180000000        35          0.00      WES-LIM  \n2014-01-01 00:38:34.670000000         0          0.00          LEW  \n2014-01-01 00:39:06.640000000        20         78.42          PDK  \n...                                 ...           ...          ...  \n2014-12-31 22:13:41.840000000        58          0.00      DEB-ELR  \n2014-12-31 22:20:12.640000000        53        126.92      EAI-CAT  \n2014-12-31 22:21:06.770000000        49          0.00      CAT-WST  \n2014-12-31 22:21:45.580000000        39       7316.34      GRE-DEB  \n2014-12-31 22:22:19.560000000        38          0.00      CAT-ROV  \n\n[318986 rows x 8 columns]",
      "text/html": "<div>\n<style scoped>\n    .dataframe tbody tr th:only-of-type {\n        vertical-align: middle;\n    }\n\n    .dataframe tbody tr th {\n        vertical-align: top;\n    }\n\n    .dataframe thead th {\n        text-align: right;\n    }\n</style>\n<table border=\"1\" class=\"dataframe\">\n  <thead>\n    <tr style=\"text-align: right;\">\n      <th></th>\n      <th>Fault Code</th>\n      <th>FaultName</th>\n      <th>Fault Code Set</th>\n      <th>Active Passive Status</th>\n      <th>VOBCID</th>\n      <th>Velocity</th>\n      <th>IntervalTime</th>\n      <th>LocationName</th>\n    </tr>\n    <tr>\n      <th>LoggedAt</th>\n      <th></th>\n      <th></th>\n      <th></th>\n      <th></th>\n      <th></th>\n      <th></th>\n      <th></th>\n      <th></th>\n    </tr>\n  </thead>\n  <tbody>\n    <tr>\n      <th>2014-01-01 00:35:29.110000000</th>\n      <td>3</td>\n      <td>03. FAR Level 3 Fault</td>\n      <td>-1</td>\n      <td>-1</td>\n      <td>290</td>\n      <td>37</td>\n      <td>116.07</td>\n      <td>WIQ-WES</td>\n    </tr>\n    <tr>\n      <th>2014-01-01 00:35:58.900000000</th>\n      <td>3</td>\n      <td>03. FAR Level 3 Fault</td>\n      <td>0</td>\n      <td>-1</td>\n      <td>228</td>\n      <td>54</td>\n      <td>0.00</td>\n      <td>SHA-BAN</td>\n    </tr>\n    <tr>\n      <th>2014-01-01 00:37:25.180000000</th>\n      <td>3</td>\n      <td>03. FAR Level 3 Fault</td>\n      <td>0</td>\n      <td>-1</td>\n      <td>290</td>\n      <td>35</td>\n      <td>0.00</td>\n      <td>WES-LIM</td>\n    </tr>\n    <tr>\n      <th>2014-01-01 00:38:34.670000000</th>\n      <td>3</td>\n      <td>03. FAR Level 3 Fault</td>\n      <td>0</td>\n      <td>-1</td>\n      <td>276</td>\n      <td>0</td>\n      <td>0.00</td>\n      <td>LEW</td>\n    </tr>\n    <tr>\n      <th>2014-01-01 00:39:06.640000000</th>\n      <td>3</td>\n      <td>03. FAR Level 3 Fault</td>\n      <td>-1</td>\n      <td>-1</td>\n      <td>260</td>\n      <td>20</td>\n      <td>78.42</td>\n      <td>PDK</td>\n    </tr>\n    <tr>\n      <th>...</th>\n      <td>...</td>\n      <td>...</td>\n      <td>...</td>\n      <td>...</td>\n      <td>...</td>\n      <td>...</td>\n      <td>...</td>\n      <td>...</td>\n    </tr>\n    <tr>\n      <th>2014-12-31 22:13:41.840000000</th>\n      <td>3</td>\n      <td>03. FAR Level 3 Fault</td>\n      <td>0</td>\n      <td>-1</td>\n      <td>250</td>\n      <td>58</td>\n      <td>0.00</td>\n      <td>DEB-ELR</td>\n    </tr>\n    <tr>\n      <th>2014-12-31 22:20:12.640000000</th>\n      <td>3</td>\n      <td>03. FAR Level 3 Fault</td>\n      <td>-1</td>\n      <td>-1</td>\n      <td>308</td>\n      <td>53</td>\n      <td>126.92</td>\n      <td>EAI-CAT</td>\n    </tr>\n    <tr>\n      <th>2014-12-31 22:21:06.770000000</th>\n      <td>3</td>\n      <td>03. FAR Level 3 Fault</td>\n      <td>0</td>\n      <td>-1</td>\n      <td>298</td>\n      <td>49</td>\n      <td>0.00</td>\n      <td>CAT-WST</td>\n    </tr>\n    <tr>\n      <th>2014-12-31 22:21:45.580000000</th>\n      <td>3</td>\n      <td>03. FAR Level 3 Fault</td>\n      <td>-1</td>\n      <td>-1</td>\n      <td>306</td>\n      <td>39</td>\n      <td>7316.34</td>\n      <td>GRE-DEB</td>\n    </tr>\n    <tr>\n      <th>2014-12-31 22:22:19.560000000</th>\n      <td>3</td>\n      <td>03. FAR Level 3 Fault</td>\n      <td>0</td>\n      <td>-1</td>\n      <td>308</td>\n      <td>38</td>\n      <td>0.00</td>\n      <td>CAT-ROV</td>\n    </tr>\n  </tbody>\n</table>\n<p>318986 rows × 8 columns</p>\n</div>"
     },
     "metadata": {},
     "execution_count": 3
    }
   ],
   "source": [
    "faultcode_ = [1,2,3,4,5]\n",
    "filtered_df = df0[df0['Fault Code'].isin(faultcode_)]\n",
    "filtered_df    "
   ]
  },
  {
   "cell_type": "code",
   "execution_count": 10,
   "metadata": {},
   "outputs": [
    {
     "output_type": "error",
     "ename": "TypeError",
     "evalue": "sort_VOBCID_FaultCount() takes 2 positional arguments but 3 were given",
     "traceback": [
      "\u001b[1;31m---------------------------------------------------------------------------\u001b[0m",
      "\u001b[1;31mTypeError\u001b[0m                                 Traceback (most recent call last)",
      "\u001b[1;32m<ipython-input-10-b37c50c42159>\u001b[0m in \u001b[0;36m<module>\u001b[1;34m\u001b[0m\n\u001b[1;32m----> 1\u001b[1;33m \u001b[0mdf2\u001b[0m \u001b[1;33m=\u001b[0m \u001b[0morder_data\u001b[0m\u001b[1;33m.\u001b[0m\u001b[0msort_VOBCID_FaultCount\u001b[0m\u001b[1;33m(\u001b[0m\u001b[0mdf0\u001b[0m\u001b[1;33m,\u001b[0m \u001b[1;36m300\u001b[0m\u001b[1;33m,\u001b[0m \u001b[1;33m[\u001b[0m\u001b[1;36m1\u001b[0m\u001b[1;33m,\u001b[0m\u001b[1;36m2\u001b[0m\u001b[1;33m,\u001b[0m\u001b[1;36m3\u001b[0m\u001b[1;33m,\u001b[0m\u001b[1;36m4\u001b[0m\u001b[1;33m,\u001b[0m\u001b[1;36m5\u001b[0m\u001b[1;33m]\u001b[0m\u001b[1;33m)\u001b[0m\u001b[1;33m\u001b[0m\u001b[1;33m\u001b[0m\u001b[0m\n\u001b[0m\u001b[0;32m      2\u001b[0m \u001b[0mdf2\u001b[0m\u001b[1;33m\u001b[0m\u001b[1;33m\u001b[0m\u001b[0m\n",
      "\u001b[1;31mTypeError\u001b[0m: sort_VOBCID_FaultCount() takes 2 positional arguments but 3 were given"
     ]
    }
   ],
   "source": [
    "\n",
    "df2 = order_data.sort_VOBCID_FaultCount(df0, 300, [1,2,3,4,5])\n",
    "df2"
   ]
  },
  {
   "cell_type": "code",
   "execution_count": null,
   "metadata": {},
   "outputs": [],
   "source": []
  }
 ],
 "metadata": {
  "language_info": {
   "codemirror_mode": {
    "name": "ipython",
    "version": 3
   },
   "file_extension": ".py",
   "mimetype": "text/x-python",
   "name": "python",
   "nbconvert_exporter": "python",
   "pygments_lexer": "ipython3",
   "version": "3.7.7-final"
  },
  "orig_nbformat": 2,
  "kernelspec": {
   "name": "python37764bitvenvvenvdfdb52e7c95c454a9a6dbfb0879938a6",
   "display_name": "Python 3.7.7 64-bit ('.venv': venv)"
  }
 },
 "nbformat": 4,
 "nbformat_minor": 2
}